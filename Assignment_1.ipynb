{
 "cells": [
  {
   "cell_type": "code",
   "execution_count": 1,
   "id": "403952db",
   "metadata": {},
   "outputs": [
    {
     "name": "stdout",
     "output_type": "stream",
     "text": [
      "Table successfully created.\n"
     ]
    }
   ],
   "source": [
    "import sqlite3\n",
    "con = sqlite3.connect('drama.db')\n",
    "cursor = con.cursor()\n",
    "drop_sql = \"DROP TABLE IF EXISTS User\"\n",
    "sql = \"CREATE TABLE User (id INTEGER NOT NULL PRIMARY KEY, name String, password String, admin Boolean);\"\n",
    "try:\n",
    "    cursor.execute(drop_sql)\n",
    "    cursor.execute(sql)\n",
    "    con.commit()\n",
    "    print(\"Table successfully created.\")\n",
    "except Exception as e:\n",
    "    print(\"Exception occurred.\",e)\n",
    "cursor.close()\n",
    "con.close()"
   ]
  },
  {
   "cell_type": "code",
   "execution_count": 2,
   "id": "3b9a0b71",
   "metadata": {},
   "outputs": [
    {
     "name": "stdout",
     "output_type": "stream",
     "text": [
      "Requirement already satisfied: PyJWT==1.6.4 in d:\\graduate school\\comm\\5961\\anaconda\\lib\\site-packages (1.6.4)\n"
     ]
    }
   ],
   "source": [
    "!pip install PyJWT==1.6.4"
   ]
  },
  {
   "cell_type": "code",
   "execution_count": null,
   "id": "0b784560",
   "metadata": {},
   "outputs": [
    {
     "name": "stdout",
     "output_type": "stream",
     "text": [
      " * Serving Flask app \"__main__\" (lazy loading)\n",
      " * Environment: production\n",
      "   WARNING: This is a development server. Do not use it in a production deployment.\n",
      "   Use a production WSGI server instead.\n",
      " * Debug mode: off\n"
     ]
    },
    {
     "name": "stderr",
     "output_type": "stream",
     "text": [
      "D:\\Graduate School\\COMM\\5961\\Anaconda\\lib\\site-packages\\flask_sqlalchemy\\__init__.py:872: FSADeprecationWarning: SQLALCHEMY_TRACK_MODIFICATIONS adds significant overhead and will be disabled by default in the future.  Set it to True or False to suppress this warning.\n",
      "  warnings.warn(FSADeprecationWarning(\n",
      " * Running on http://localhost:1234/ (Press CTRL+C to quit)\n",
      "127.0.0.1 - - [24/Jan/2022 14:35:35] \"\u001b[37mPOST /register HTTP/1.1\u001b[0m\" 200 -\n",
      "127.0.0.1 - - [24/Jan/2022 14:35:45] \"\u001b[37mPOST /register HTTP/1.1\u001b[0m\" 200 -\n",
      "127.0.0.1 - - [24/Jan/2022 14:35:50] \"\u001b[37mPOST /register HTTP/1.1\u001b[0m\" 200 -\n",
      "127.0.0.1 - - [24/Jan/2022 14:36:05] \"\u001b[37mGET /login HTTP/1.1\u001b[0m\" 200 -\n",
      "127.0.0.1 - - [24/Jan/2022 14:36:15] \"\u001b[37mGET /user HTTP/1.1\u001b[0m\" 200 -\n",
      "127.0.0.1 - - [24/Jan/2022 14:37:32] \"\u001b[37mPUT /user/2 HTTP/1.1\u001b[0m\" 200 -\n"
     ]
    },
    {
     "name": "stdout",
     "output_type": "stream",
     "text": [
      "<User 1>\n"
     ]
    },
    {
     "name": "stderr",
     "output_type": "stream",
     "text": [
      "127.0.0.1 - - [24/Jan/2022 14:38:54] \"\u001b[37mDELETE /user/3 HTTP/1.1\u001b[0m\" 200 -\n"
     ]
    }
   ],
   "source": [
    "from flask import Flask, request, jsonify, make_response\n",
    "from flask_sqlalchemy import SQLAlchemy\n",
    "from flask_bcrypt import Bcrypt\n",
    "import jwt\n",
    "import datetime\n",
    "from functools import wraps\n",
    "\n",
    "app = Flask(__name__)\n",
    "\n",
    "app.config['SECRET_KEY'] = 'thisissecret'\n",
    "app.config['SQLALCHEMY_DATABASE_URI'] = app.config['SQLALCHEMY_DATABASE_URI'] = 'sqlite:///drama.db'\n",
    "bcrypt = Bcrypt(app)\n",
    "db = SQLAlchemy(app)\n",
    "\n",
    "class User(db.Model):\n",
    "    id = db.Column(db.Integer, primary_key=True)\n",
    "    name = db.Column(db.String(50))\n",
    "    password = db.Column(db.String(80))\n",
    "    admin = db.Column(db.Boolean)\n",
    "\n",
    "def token_required(f):\n",
    "    @wraps(f)\n",
    "    def decorated(*args, **kwargs):\n",
    "        token = None\n",
    "\n",
    "        if 'x-access-token' in request.headers:\n",
    "            token = request.headers['x-access-token']\n",
    "\n",
    "        if not token:\n",
    "            return jsonify({'message' : 'Token is missing!'}), 401\n",
    "\n",
    "        try: \n",
    "            data = jwt.decode(token, app.config['SECRET_KEY'])\n",
    "            current_user = User.query.filter_by(id=data['id']).first()\n",
    "        except:\n",
    "            return jsonify({'message' : 'Token is invalid!'}), 401\n",
    "\n",
    "        return f(current_user, *args, **kwargs)\n",
    "\n",
    "    return decorated\n",
    "\n",
    "@app.route('/user', methods=['GET'])\n",
    "@token_required\n",
    "def get_all_users(current_user):\n",
    "\n",
    "    if not current_user.admin:\n",
    "        return jsonify({'message' : 'Cannot perform that function!'})\n",
    "\n",
    "    users = User.query.all()\n",
    "\n",
    "    output = []\n",
    "\n",
    "    for user in users:\n",
    "        user_data = {}\n",
    "        user_data['name'] = user.name\n",
    "        user_data['password'] = str(user.password)\n",
    "        user_data['admin'] = user.admin\n",
    "        output.append(user_data)\n",
    "\n",
    "    return jsonify({'users' : output})\n",
    "\n",
    "@app.route('/user/<id>', methods=['GET'])\n",
    "@token_required\n",
    "def get_one_user(current_user, id):\n",
    "\n",
    "    if not current_user.admin:\n",
    "        return jsonify({'message' : 'Cannot perform that function!'})\n",
    "\n",
    "    user = User.query.filter_by(id=id).first()\n",
    "\n",
    "    if not user:\n",
    "        return jsonify({'message' : 'No user found!'})\n",
    "\n",
    "    user_data = {}\n",
    "    user_data['id'] = user.id\n",
    "    user_data['name'] = user.name\n",
    "    user_data['password'] = str(user.password)\n",
    "    user_data['admin'] = user.admin\n",
    "\n",
    "    return jsonify({'user' : user_data})\n",
    "\n",
    "@app.route('/register', methods=['POST'])\n",
    "def register():\n",
    "    data = request.get_json()\n",
    "    hashed_password = bcrypt.generate_password_hash(data['password'])\n",
    "    new_user = User(name=data['name'], password=hashed_password, admin=False)\n",
    "    db.session.add(new_user)\n",
    "    db.session.commit()\n",
    "    return jsonify({'message' : 'Registration completed!'})\n",
    "\n",
    "@app.route('/user/<id>', methods=['POST'])\n",
    "@token_required\n",
    "def create_user(current_user, id):\n",
    "    if not current_user.admin:\n",
    "        return jsonify({'message' : 'Cannot perform that function!'}) \n",
    "    data = request.get_json()\n",
    "    hashed_password = bcrypt.generate_password_hash(data['password'])\n",
    "    new_user = User(name=data['name'], password=hashed_password, admin=False)\n",
    "    db.session.add(new_user)\n",
    "    db.session.commit()\n",
    "    return jsonify({'message' : 'New user created!'})\n",
    "\n",
    "@app.route('/user/<id>', methods=['PUT'])\n",
    "@token_required\n",
    "def promote_user(current_user, id):\n",
    "    print(current_user)\n",
    "    if not current_user.admin:\n",
    "        return jsonify({'message' : 'Cannot perform that function!'})\n",
    "\n",
    "    user = User.query.filter_by(id=id).first()\n",
    "\n",
    "    if not user:\n",
    "        return jsonify({'message' : 'No user found!'})\n",
    "\n",
    "    user.admin = True\n",
    "    db.session.commit()\n",
    "\n",
    "    return jsonify({'message' : 'The user has been promoted!'})\n",
    "\n",
    "@app.route('/user/<id>', methods=['DELETE'])\n",
    "@token_required\n",
    "def delete_user(current_user, id):\n",
    "    if not current_user.admin:\n",
    "           return jsonify({'message' : 'Cannot perform that function!'})\n",
    "\n",
    "    user = User.query.filter_by(id=id).first()\n",
    "\n",
    "    if not user:\n",
    "        return jsonify({'message' : 'No user found!'})\n",
    "\n",
    "    db.session.delete(user)\n",
    "    db.session.commit()\n",
    "\n",
    "    return jsonify({'message' : 'The user has been deleted!'})\n",
    "\n",
    "@app.route('/login')\n",
    "def login():\n",
    "    auth = request.authorization\n",
    "\n",
    "    if not auth or not auth.username or not auth.password:\n",
    "        return make_response('Could not verify', 401, {'WWW-Authenticate' : 'Basic realm=\"Login required!\"'})\n",
    "\n",
    "    user = User.query.filter_by(name=auth.username).first()\n",
    "\n",
    "    if not user:\n",
    "        return make_response('Could not verify', 401, {'WWW-Authenticate' : 'Basic realm=\"Login required!\"'})\n",
    "\n",
    "    if bcrypt.check_password_hash(user.password, auth.password):\n",
    "        token = jwt.encode({'id' : user.id, 'exp' : datetime.datetime.utcnow() + datetime.timedelta(minutes=30)}, app.config['SECRET_KEY'])\n",
    "\n",
    "        return jsonify({'token' : token.decode('UTF-8')})\n",
    "\n",
    "    return make_response('Could not verify', 401, {'WWW-Authenticate' : 'Basic realm=\"Login required!\"'})\n",
    "\n",
    "if __name__ == '__main__':\n",
    "    app.run('localhost', port=1234)"
   ]
  },
  {
   "cell_type": "code",
   "execution_count": null,
   "id": "0e28f1fd",
   "metadata": {},
   "outputs": [],
   "source": []
  }
 ],
 "metadata": {
  "kernelspec": {
   "display_name": "Python 3",
   "language": "python",
   "name": "python3"
  },
  "language_info": {
   "codemirror_mode": {
    "name": "ipython",
    "version": 3
   },
   "file_extension": ".py",
   "mimetype": "text/x-python",
   "name": "python",
   "nbconvert_exporter": "python",
   "pygments_lexer": "ipython3",
   "version": "3.8.8"
  }
 },
 "nbformat": 4,
 "nbformat_minor": 5
}
